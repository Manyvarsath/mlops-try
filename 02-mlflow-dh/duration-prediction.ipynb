{
 "cells": [
  {
   "cell_type": "code",
   "execution_count": 19,
   "id": "1e722800",
   "metadata": {},
   "outputs": [
    {
     "name": "stdout",
     "output_type": "stream",
     "text": [
      "Python 3.9.12\n"
     ]
    }
   ],
   "source": [
    "!python -V"
   ]
  },
  {
   "cell_type": "code",
   "execution_count": 20,
   "id": "7a84ec2e",
   "metadata": {},
   "outputs": [],
   "source": [
    "import pandas as pd\n",
    "import pickle\n",
    "import seaborn as sns\n",
    "import matplotlib.pyplot as plt\n",
    "\n",
    "from sklearn.feature_extraction import DictVectorizer\n",
    "from sklearn.linear_model import LinearRegression\n",
    "from sklearn.linear_model import Lasso\n",
    "from sklearn.linear_model import Ridge\n",
    "\n",
    "from sklearn.metrics import mean_squared_error"
   ]
  },
  {
   "cell_type": "code",
   "execution_count": 21,
   "id": "a5ba7592",
   "metadata": {},
   "outputs": [],
   "source": [
    "import mlflow\n",
    "\n",
    "mlflow.set_tracking_uri('sqlite:///mlflow.db')"
   ]
  },
  {
   "cell_type": "code",
   "execution_count": 22,
   "id": "a253daf8",
   "metadata": {},
   "outputs": [
    {
     "data": {
      "text/plain": [
       "<Experiment: artifact_location='/workspaces/mlops-try/02-experiment-tracking/mlruns/1', creation_time=1748269299441, experiment_id='1', last_update_time=1748269299441, lifecycle_stage='active', name='my-first-ever-mlflow-experiment', tags={}>"
      ]
     },
     "execution_count": 22,
     "metadata": {},
     "output_type": "execute_result"
    }
   ],
   "source": [
    "mlflow.set_experiment(\"my-first-ever-mlflow-experiment\")"
   ]
  },
  {
   "cell_type": "code",
   "execution_count": 23,
   "id": "5f5f9e77",
   "metadata": {},
   "outputs": [],
   "source": [
    "df = pd.read_parquet('./data/green_tripdata_2021-01.parquet')\n",
    "\n",
    "df['duration'] = df.lpep_dropoff_datetime - df.lpep_pickup_datetime\n",
    "df.duration = df.duration.apply(lambda td: td.total_seconds() / 60)\n",
    "\n",
    "df = df[(df.duration >= 1) & (df.duration <= 60)]\n",
    "\n",
    "categorical = ['PULocationID', 'DOLocationID']\n",
    "numerical = ['trip_distance']\n",
    "\n",
    "df[categorical] = df[categorical].astype(str)"
   ]
  },
  {
   "cell_type": "code",
   "execution_count": 24,
   "id": "b50981c6",
   "metadata": {},
   "outputs": [
    {
     "data": {
      "text/plain": [
       "9.775464278878395"
      ]
     },
     "execution_count": 24,
     "metadata": {},
     "output_type": "execute_result"
    }
   ],
   "source": [
    "train_dicts = df[categorical + numerical].to_dict(orient='records')\n",
    "\n",
    "dv = DictVectorizer()\n",
    "X_train = dv.fit_transform(train_dicts)\n",
    "\n",
    "target = 'duration'\n",
    "y_train = df[target].values\n",
    "\n",
    "lr = LinearRegression()\n",
    "lr.fit(X_train, y_train)\n",
    "\n",
    "y_pred = lr.predict(X_train)\n",
    "\n",
    "mean_squared_error(y_train, y_pred, squared=False)"
   ]
  },
  {
   "cell_type": "code",
   "execution_count": 25,
   "id": "3f3923b5",
   "metadata": {},
   "outputs": [
    {
     "name": "stderr",
     "output_type": "stream",
     "text": [
      "/home/codespace/anaconda3/lib/python3.9/site-packages/seaborn/distributions.py:2619: FutureWarning: `distplot` is a deprecated function and will be removed in a future version. Please adapt your code to use either `displot` (a figure-level function with similar flexibility) or `histplot` (an axes-level function for histograms).\n",
      "  warnings.warn(msg, FutureWarning)\n",
      "/home/codespace/anaconda3/lib/python3.9/site-packages/seaborn/distributions.py:2619: FutureWarning: `distplot` is a deprecated function and will be removed in a future version. Please adapt your code to use either `displot` (a figure-level function with similar flexibility) or `histplot` (an axes-level function for histograms).\n",
      "  warnings.warn(msg, FutureWarning)\n"
     ]
    },
    {
     "data": {
      "text/plain": [
       "<matplotlib.legend.Legend at 0x7a6826efba90>"
      ]
     },
     "execution_count": 25,
     "metadata": {},
     "output_type": "execute_result"
    },
    {
     "data": {
      "image/png": "[encoded data removed]",
      "text/plain": [
       "<Figure size 432x288 with 1 Axes>"
      ]
     },
     "metadata": {
      "needs_background": "light"
     },
     "output_type": "display_data"
    }
   ],
   "source": [
    "sns.distplot(y_pred, label='prediction')\n",
    "sns.distplot(y_train, label='actual')\n",
    "\n",
    "plt.legend()"
   ]
  },
  {
   "cell_type": "code",
   "execution_count": 26,
   "id": "54a54739",
   "metadata": {},
   "outputs": [],
   "source": [
    "def read_dataframe(filename):\n",
    "    if filename.endswith('.csv'):\n",
    "        df = pd.read_csv(filename)\n",
    "\n",
    "        df.lpep_dropoff_datetime = pd.to_datetime(df.lpep_dropoff_datetime)\n",
    "        df.lpep_pickup_datetime = pd.to_datetime(df.lpep_pickup_datetime)\n",
    "    elif filename.endswith('.parquet'):\n",
    "        df = pd.read_parquet(filename)\n",
    "\n",
    "    df['duration'] = df.lpep_dropoff_datetime - df.lpep_pickup_datetime\n",
    "    df.duration = df.duration.apply(lambda td: td.total_seconds() / 60)\n",
    "\n",
    "    df = df[(df.duration >= 1) & (df.duration <= 60)]\n",
    "\n",
    "    categorical = ['PULocationID', 'DOLocationID']\n",
    "    df[categorical] = df[categorical].astype(str)\n",
    "    \n",
    "    return df"
   ]
  },
  {
   "cell_type": "code",
   "execution_count": 27,
   "id": "67a24eea",
   "metadata": {},
   "outputs": [],
   "source": [
    "df_train = read_dataframe('./data/green_tripdata_2021-01.parquet')\n",
    "df_val = read_dataframe('./data/green_tripdata_2021-02.parquet')"
   ]
  },
  {
   "cell_type": "code",
   "execution_count": 28,
   "id": "63ce137f",
   "metadata": {},
   "outputs": [
    {
     "data": {
      "text/plain": [
       "(73908, 61921)"
      ]
     },
     "execution_count": 28,
     "metadata": {},
     "output_type": "execute_result"
    }
   ],
   "source": [
    "len(df_train), len(df_val)\n"
   ]
  },
  {
   "cell_type": "code",
   "execution_count": 29,
   "id": "b7020a3f",
   "metadata": {},
   "outputs": [],
   "source": [
    "\n",
    "df_train['PU_DO'] = df_train['PULocationID'] + '_' + df_train['DOLocationID']\n",
    "df_val['PU_DO'] = df_val['PULocationID'] + '_' + df_val['DOLocationID']"
   ]
  },
  {
   "cell_type": "code",
   "execution_count": 30,
   "id": "b1485297",
   "metadata": {},
   "outputs": [],
   "source": [
    "categorical = ['PU_DO'] #'PULocationID', 'DOLocationID']\n",
    "numerical = ['trip_distance']\n",
    "\n",
    "dv = DictVectorizer()\n",
    "\n",
    "train_dicts = df_train[categorical + numerical].to_dict(orient='records')\n",
    "X_train = dv.fit_transform(train_dicts)\n",
    "\n",
    "val_dicts = df_val[categorical + numerical].to_dict(orient='records')\n",
    "X_val = dv.transform(val_dicts)"
   ]
  },
  {
   "cell_type": "code",
   "execution_count": 31,
   "id": "748ca665",
   "metadata": {},
   "outputs": [],
   "source": [
    "\n",
    "target = 'duration'\n",
    "y_train = df_train[target].values\n",
    "y_val = df_val[target].values"
   ]
  },
  {
   "cell_type": "code",
   "execution_count": 32,
   "id": "1212f9ef",
   "metadata": {},
   "outputs": [
    {
     "data": {
      "text/plain": [
       "7.4793657829373155"
      ]
     },
     "execution_count": 32,
     "metadata": {},
     "output_type": "execute_result"
    }
   ],
   "source": [
    "\n",
    "lr = LinearRegression()\n",
    "lr.fit(X_train, y_train)\n",
    "\n",
    "y_pred = lr.predict(X_val)\n",
    "\n",
    "mean_squared_error(y_val, y_pred, squared=False)"
   ]
  },
  {
   "cell_type": "code",
   "execution_count": 33,
   "id": "f2f6e5b9",
   "metadata": {},
   "outputs": [],
   "source": [
    "\n",
    "with open('models/lin_reg.bin', 'wb') as f_out:\n",
    "    pickle.dump((dv, lr), f_out)"
   ]
  },
  {
   "cell_type": "code",
   "execution_count": 34,
   "id": "20d7962d",
   "metadata": {},
   "outputs": [],
   "source": [
    "with mlflow.start_run():\n",
    "\tmlflow.set_tag(\"developper\", \"meeeeee\")\n",
    "\tmlflow.log_param(\"train-data-path\", \"./data/green_tripdata_2021-01.parquet\")\n",
    "\tmlflow.log_param(\"valid-data-path\", \"./data/green_tripdata_2021-02.parquet\")\n",
    "\n",
    "\talpha = 0.1\n",
    "\tmlflow.log_param(\"alpha\", alpha)\n",
    "\tlr = Lasso(alpha)\n",
    "\tlr.fit(X_train, y_train)\n",
    "\n",
    "\ty_pred = lr.predict(X_val)\n",
    "\n",
    "\trmse = mean_squared_error(y_val, y_pred, squared=False)\n",
    "\tmlflow.log_metric(\"rmse\", rmse)\n",
    "\n",
    "\tmlflow.log_artifact(local_path='models/lin_reg.bin', artifact_path=\"model_pickle\")\n"
   ]
  },
  {
   "cell_type": "code",
   "execution_count": 35,
   "id": "6bb0359f",
   "metadata": {},
   "outputs": [],
   "source": [
    "import xgboost as xgb\n",
    "\n",
    "from hyperopt import fmin, tpe, hp, STATUS_OK, Trials\n",
    "from hyperopt.pyll import scope\n",
    "\n",
    "train = xgb.DMatrix(X_train, label=y_train)\n",
    "valid = xgb.DMatrix(X_val, label=y_val)"
   ]
  },
  {
   "cell_type": "code",
   "execution_count": 36,
   "id": "653c4340",
   "metadata": {},
   "outputs": [
    {
     "data": {
      "text/plain": [
       "'def objective(params):\\n    with mlflow.start_run():\\n        mlflow.set_tag(\"model\", \"xgboost\")\\n        mlflow.log_params(params)\\n        booster = xgb.train(\\n            params=params,\\n            dtrain=train,\\n            num_boost_round=1000,\\n            evals=[(valid, \\'validation\\')],\\n            early_stopping_rounds=50\\n        )\\n        y_pred = booster.predict(valid)\\n        rmse = mean_squared_error(y_val, y_pred, squared=False)\\n        mlflow.log_metric(\"rmse\", rmse)\\n\\n    return {\\'loss\\': rmse, \\'status\\': STATUS_OK}'"
      ]
     },
     "execution_count": 36,
     "metadata": {},
     "output_type": "execute_result"
    }
   ],
   "source": [
    "\"\"\"def objective(params):\n",
    "    with mlflow.start_run():\n",
    "        mlflow.set_tag(\"model\", \"xgboost\")\n",
    "        mlflow.log_params(params)\n",
    "        booster = xgb.train(\n",
    "            params=params,\n",
    "            dtrain=train,\n",
    "            num_boost_round=1000,\n",
    "            evals=[(valid, 'validation')],\n",
    "            early_stopping_rounds=50\n",
    "        )\n",
    "        y_pred = booster.predict(valid)\n",
    "        rmse = mean_squared_error(y_val, y_pred, squared=False)\n",
    "        mlflow.log_metric(\"rmse\", rmse)\n",
    "\n",
    "    return {'loss': rmse, 'status': STATUS_OK}\"\"\""
   ]
  },
  {
   "cell_type": "code",
   "execution_count": 37,
   "id": "7220b89d",
   "metadata": {},
   "outputs": [
    {
     "data": {
      "text/plain": [
       "\"search_space = {\\n    'max_depth': scope.int(hp.quniform('max_depth', 4, 100, 1)),\\n    'learning_rate': hp.loguniform('learning_rate', -3, 0),\\n    'reg_alpha': hp.loguniform('reg_alpha', -5, -1),\\n    'reg_lambda': hp.loguniform('reg_lambda', -6, -1),\\n    'min_child_weight': hp.loguniform('min_child_weight', -1, 3),\\n    'objective': 'reg:linear',\\n    'seed': 42\\n}\\n\\nbest_result = fmin(\\n    fn=objective,\\n    space=search_space,\\n    algo=tpe.suggest,\\n    max_evals=50,\\n    trials=Trials()\\n)\""
      ]
     },
     "execution_count": 37,
     "metadata": {},
     "output_type": "execute_result"
    }
   ],
   "source": [
    "\"\"\"search_space = {\n",
    "    'max_depth': scope.int(hp.quniform('max_depth', 4, 100, 1)),\n",
    "    'learning_rate': hp.loguniform('learning_rate', -3, 0),\n",
    "    'reg_alpha': hp.loguniform('reg_alpha', -5, -1),\n",
    "    'reg_lambda': hp.loguniform('reg_lambda', -6, -1),\n",
    "    'min_child_weight': hp.loguniform('min_child_weight', -1, 3),\n",
    "    'objective': 'reg:linear',\n",
    "    'seed': 42\n",
    "}\n",
    "\n",
    "best_result = fmin(\n",
    "    fn=objective,\n",
    "    space=search_space,\n",
    "    algo=tpe.suggest,\n",
    "    max_evals=50,\n",
    "    trials=Trials()\n",
    ")\"\"\""
   ]
  },
  {
   "cell_type": "code",
   "execution_count": 38,
   "id": "05131bf9",
   "metadata": {},
   "outputs": [
    {
     "data": {
      "text/plain": [
       "'params = {\\n\\t\"learning_rate\": 0.22093207255173006,\\n\\t\"max_depth\": 43,\\n\\t\"min_child_weight\" :2.98274675380116,\\n\\t\"objective\":  \"reg:linear\",\\n\\t\"reg_alpha\": 0.12234284295963546,\\n\\t\"reg_lambda\":0.17958531299020217,\\n\\t\"seed\": 42\\n}\\nmlflow.autolog()\\nmlflow.xgboost.autolog(log_datasets=False)\\n\\nbooster = xgb.train(\\n    params=params,\\n    dtrain=train,\\n    num_boost_round=1000,\\n    evals=[(valid, \\'validation\\')],\\n    early_stopping_rounds=50\\n)'"
      ]
     },
     "execution_count": 38,
     "metadata": {},
     "output_type": "execute_result"
    }
   ],
   "source": [
    "\"\"\"params = {\n",
    "\t\"learning_rate\": 0.22093207255173006,\n",
    "\t\"max_depth\": 43,\n",
    "\t\"min_child_weight\" :2.98274675380116,\n",
    "\t\"objective\":  \"reg:linear\",\n",
    "\t\"reg_alpha\": 0.12234284295963546,\n",
    "\t\"reg_lambda\":0.17958531299020217,\n",
    "\t\"seed\": 42\n",
    "}\n",
    "mlflow.autolog()\n",
    "mlflow.xgboost.autolog(log_datasets=False)\n",
    "\n",
    "booster = xgb.train(\n",
    "    params=params,\n",
    "    dtrain=train,\n",
    "    num_boost_round=1000,\n",
    "    evals=[(valid, 'validation')],\n",
    "    early_stopping_rounds=50\n",
    ")\"\"\""
   ]
  },
  {
   "cell_type": "code",
   "execution_count": 41,
   "id": "ca49a78c",
   "metadata": {},
   "outputs": [
    {
     "name": "stderr",
     "output_type": "stream",
     "text": [
      "/home/codespace/anaconda3/lib/python3.9/site-packages/xgboost/core.py:158: UserWarning: [18:13:48] WARNING: /workspace/src/objective/regression_obj.cu:227: reg:linear is now deprecated in favor of reg:squarederror.\n",
      "  warnings.warn(smsg, UserWarning)\n"
     ]
    },
    {
     "name": "stdout",
     "output_type": "stream",
     "text": [
      "[0]\tvalidation-rmse:10.46699\n",
      "[1]\tvalidation-rmse:9.22557\n",
      "[2]\tvalidation-rmse:8.36001\n",
      "[3]\tvalidation-rmse:7.76660\n",
      "[4]\tvalidation-rmse:7.36635\n",
      "[5]\tvalidation-rmse:7.09849\n",
      "[6]\tvalidation-rmse:6.91818\n",
      "[7]\tvalidation-rmse:6.79662\n",
      "[8]\tvalidation-rmse:6.71007\n",
      "[9]\tvalidation-rmse:6.65083\n",
      "[10]\tvalidation-rmse:6.60692\n",
      "[11]\tvalidation-rmse:6.57743\n",
      "[12]\tvalidation-rmse:6.55422\n",
      "[13]\tvalidation-rmse:6.53669\n",
      "[14]\tvalidation-rmse:6.52291\n",
      "[15]\tvalidation-rmse:6.51229\n",
      "[16]\tvalidation-rmse:6.50189\n",
      "[17]\tvalidation-rmse:6.49546\n",
      "[18]\tvalidation-rmse:6.49053\n",
      "[19]\tvalidation-rmse:6.48548\n",
      "[20]\tvalidation-rmse:6.48058\n",
      "[21]\tvalidation-rmse:6.47618\n",
      "[22]\tvalidation-rmse:6.47366\n",
      "[23]\tvalidation-rmse:6.47200\n",
      "[24]\tvalidation-rmse:6.46859\n",
      "[25]\tvalidation-rmse:6.46586\n",
      "[26]\tvalidation-rmse:6.46360\n",
      "[27]\tvalidation-rmse:6.46124\n",
      "[28]\tvalidation-rmse:6.45976\n",
      "[29]\tvalidation-rmse:6.45758\n",
      "[30]\tvalidation-rmse:6.45572\n",
      "[31]\tvalidation-rmse:6.45379\n",
      "[32]\tvalidation-rmse:6.45169\n",
      "[33]\tvalidation-rmse:6.45039\n",
      "[34]\tvalidation-rmse:6.44859\n",
      "[35]\tvalidation-rmse:6.44671\n",
      "[36]\tvalidation-rmse:6.44423\n",
      "[37]\tvalidation-rmse:6.44276\n",
      "[38]\tvalidation-rmse:6.44131\n",
      "[39]\tvalidation-rmse:6.43973\n",
      "[40]\tvalidation-rmse:6.43818\n",
      "[41]\tvalidation-rmse:6.43743\n",
      "[42]\tvalidation-rmse:6.43654\n",
      "[43]\tvalidation-rmse:6.43528\n",
      "[44]\tvalidation-rmse:6.43408\n",
      "[45]\tvalidation-rmse:6.43252\n",
      "[46]\tvalidation-rmse:6.43094\n",
      "[47]\tvalidation-rmse:6.42960\n",
      "[48]\tvalidation-rmse:6.42854\n",
      "[49]\tvalidation-rmse:6.42708\n",
      "[50]\tvalidation-rmse:6.42647\n",
      "[51]\tvalidation-rmse:6.42490\n",
      "[52]\tvalidation-rmse:6.42386\n",
      "[53]\tvalidation-rmse:6.42247\n",
      "[54]\tvalidation-rmse:6.42079\n",
      "[55]\tvalidation-rmse:6.41892\n",
      "[56]\tvalidation-rmse:6.41752\n",
      "[57]\tvalidation-rmse:6.41627\n",
      "[58]\tvalidation-rmse:6.41516\n",
      "[59]\tvalidation-rmse:6.41436\n",
      "[60]\tvalidation-rmse:6.41355\n",
      "[61]\tvalidation-rmse:6.41261\n",
      "[62]\tvalidation-rmse:6.41099\n",
      "[63]\tvalidation-rmse:6.41038\n",
      "[64]\tvalidation-rmse:6.40904\n",
      "[65]\tvalidation-rmse:6.40856\n",
      "[66]\tvalidation-rmse:6.40759\n",
      "[67]\tvalidation-rmse:6.40667\n",
      "[68]\tvalidation-rmse:6.40609\n",
      "[69]\tvalidation-rmse:6.40515\n",
      "[70]\tvalidation-rmse:6.40389\n",
      "[71]\tvalidation-rmse:6.40363\n",
      "[72]\tvalidation-rmse:6.40299\n",
      "[73]\tvalidation-rmse:6.40215\n",
      "[74]\tvalidation-rmse:6.40168\n",
      "[75]\tvalidation-rmse:6.40072\n",
      "[76]\tvalidation-rmse:6.40004\n",
      "[77]\tvalidation-rmse:6.39923\n",
      "[78]\tvalidation-rmse:6.39857\n",
      "[79]\tvalidation-rmse:6.39767\n",
      "[80]\tvalidation-rmse:6.39707\n",
      "[81]\tvalidation-rmse:6.39636\n",
      "[82]\tvalidation-rmse:6.39577\n",
      "[83]\tvalidation-rmse:6.39520\n",
      "[84]\tvalidation-rmse:6.39434\n",
      "[85]\tvalidation-rmse:6.39343\n",
      "[86]\tvalidation-rmse:6.39290\n",
      "[87]\tvalidation-rmse:6.39210\n",
      "[88]\tvalidation-rmse:6.39121\n",
      "[89]\tvalidation-rmse:6.39055\n",
      "[90]\tvalidation-rmse:6.38991\n",
      "[91]\tvalidation-rmse:6.38919\n",
      "[92]\tvalidation-rmse:6.38845\n",
      "[93]\tvalidation-rmse:6.38759\n",
      "[94]\tvalidation-rmse:6.38702\n",
      "[95]\tvalidation-rmse:6.38627\n",
      "[96]\tvalidation-rmse:6.38522\n",
      "[97]\tvalidation-rmse:6.38443\n",
      "[98]\tvalidation-rmse:6.38384\n",
      "[99]\tvalidation-rmse:6.38339\n",
      "[100]\tvalidation-rmse:6.38299\n",
      "[101]\tvalidation-rmse:6.38266\n",
      "[102]\tvalidation-rmse:6.38207\n",
      "[103]\tvalidation-rmse:6.38184\n",
      "[104]\tvalidation-rmse:6.38154\n",
      "[105]\tvalidation-rmse:6.38061\n",
      "[106]\tvalidation-rmse:6.37999\n",
      "[107]\tvalidation-rmse:6.37958\n",
      "[108]\tvalidation-rmse:6.37899\n",
      "[109]\tvalidation-rmse:6.37865\n",
      "[110]\tvalidation-rmse:6.37822\n",
      "[111]\tvalidation-rmse:6.37820\n",
      "[112]\tvalidation-rmse:6.37777\n",
      "[113]\tvalidation-rmse:6.37732\n",
      "[114]\tvalidation-rmse:6.37640\n",
      "[115]\tvalidation-rmse:6.37541\n",
      "[116]\tvalidation-rmse:6.37484\n",
      "[117]\tvalidation-rmse:6.37466\n",
      "[118]\tvalidation-rmse:6.37413\n",
      "[119]\tvalidation-rmse:6.37390\n",
      "[120]\tvalidation-rmse:6.37351\n",
      "[121]\tvalidation-rmse:6.37329\n",
      "[122]\tvalidation-rmse:6.37294\n",
      "[123]\tvalidation-rmse:6.37250\n",
      "[124]\tvalidation-rmse:6.37231\n",
      "[125]\tvalidation-rmse:6.37170\n",
      "[126]\tvalidation-rmse:6.37160\n",
      "[127]\tvalidation-rmse:6.37130\n",
      "[128]\tvalidation-rmse:6.37100\n",
      "[129]\tvalidation-rmse:6.37085\n",
      "[130]\tvalidation-rmse:6.36936\n",
      "[131]\tvalidation-rmse:6.36886\n",
      "[132]\tvalidation-rmse:6.36766\n",
      "[133]\tvalidation-rmse:6.36718\n",
      "[134]\tvalidation-rmse:6.36705\n",
      "[135]\tvalidation-rmse:6.36669\n",
      "[136]\tvalidation-rmse:6.36664\n",
      "[137]\tvalidation-rmse:6.36671\n",
      "[138]\tvalidation-rmse:6.36602\n",
      "[139]\tvalidation-rmse:6.36576\n",
      "[140]\tvalidation-rmse:6.36580\n",
      "[141]\tvalidation-rmse:6.36529\n",
      "[142]\tvalidation-rmse:6.36559\n",
      "[143]\tvalidation-rmse:6.36527\n",
      "[144]\tvalidation-rmse:6.36459\n",
      "[145]\tvalidation-rmse:6.36397\n",
      "[146]\tvalidation-rmse:6.36366\n",
      "[147]\tvalidation-rmse:6.36345\n",
      "[148]\tvalidation-rmse:6.36285\n",
      "[149]\tvalidation-rmse:6.36276\n",
      "[150]\tvalidation-rmse:6.36209\n",
      "[151]\tvalidation-rmse:6.36035\n",
      "[152]\tvalidation-rmse:6.36014\n",
      "[153]\tvalidation-rmse:6.35969\n",
      "[154]\tvalidation-rmse:6.35928\n",
      "[155]\tvalidation-rmse:6.35905\n",
      "[156]\tvalidation-rmse:6.35869\n",
      "[157]\tvalidation-rmse:6.35820\n",
      "[158]\tvalidation-rmse:6.35793\n",
      "[159]\tvalidation-rmse:6.35764\n",
      "[160]\tvalidation-rmse:6.35707\n",
      "[161]\tvalidation-rmse:6.35650\n",
      "[162]\tvalidation-rmse:6.35685\n",
      "[163]\tvalidation-rmse:6.35664\n",
      "[164]\tvalidation-rmse:6.35623\n",
      "[165]\tvalidation-rmse:6.35580\n",
      "[166]\tvalidation-rmse:6.35549\n",
      "[167]\tvalidation-rmse:6.35557\n",
      "[168]\tvalidation-rmse:6.35520\n",
      "[169]\tvalidation-rmse:6.35492\n",
      "[170]\tvalidation-rmse:6.35475\n",
      "[171]\tvalidation-rmse:6.35456\n",
      "[172]\tvalidation-rmse:6.35438\n",
      "[173]\tvalidation-rmse:6.35401\n",
      "[174]\tvalidation-rmse:6.35376\n",
      "[175]\tvalidation-rmse:6.35320\n",
      "[176]\tvalidation-rmse:6.35300\n",
      "[177]\tvalidation-rmse:6.35303\n",
      "[178]\tvalidation-rmse:6.35175\n",
      "[179]\tvalidation-rmse:6.35172\n",
      "[180]\tvalidation-rmse:6.35177\n",
      "[181]\tvalidation-rmse:6.35193\n",
      "[182]\tvalidation-rmse:6.35201\n",
      "[183]\tvalidation-rmse:6.35216\n",
      "[184]\tvalidation-rmse:6.35175\n",
      "[185]\tvalidation-rmse:6.35147\n",
      "[186]\tvalidation-rmse:6.35109\n",
      "[187]\tvalidation-rmse:6.35099\n",
      "[188]\tvalidation-rmse:6.35103\n",
      "[189]\tvalidation-rmse:6.35108\n",
      "[190]\tvalidation-rmse:6.35087\n",
      "[191]\tvalidation-rmse:6.35049\n",
      "[192]\tvalidation-rmse:6.34984\n",
      "[193]\tvalidation-rmse:6.34973\n",
      "[194]\tvalidation-rmse:6.34956\n",
      "[195]\tvalidation-rmse:6.34914\n",
      "[196]\tvalidation-rmse:6.34882\n",
      "[197]\tvalidation-rmse:6.34854\n",
      "[198]\tvalidation-rmse:6.34818\n",
      "[199]\tvalidation-rmse:6.34827\n",
      "[200]\tvalidation-rmse:6.34805\n",
      "[201]\tvalidation-rmse:6.34792\n",
      "[202]\tvalidation-rmse:6.34762\n",
      "[203]\tvalidation-rmse:6.34772\n",
      "[204]\tvalidation-rmse:6.34769\n",
      "[205]\tvalidation-rmse:6.34753\n",
      "[206]\tvalidation-rmse:6.34727\n",
      "[207]\tvalidation-rmse:6.34717\n",
      "[208]\tvalidation-rmse:6.34657\n",
      "[209]\tvalidation-rmse:6.34629\n",
      "[210]\tvalidation-rmse:6.34601\n",
      "[211]\tvalidation-rmse:6.34566\n",
      "[212]\tvalidation-rmse:6.34546\n",
      "[213]\tvalidation-rmse:6.34549\n",
      "[214]\tvalidation-rmse:6.34453\n",
      "[215]\tvalidation-rmse:6.34439\n",
      "[216]\tvalidation-rmse:6.34449\n",
      "[217]\tvalidation-rmse:6.34441\n",
      "[218]\tvalidation-rmse:6.34422\n",
      "[219]\tvalidation-rmse:6.34413\n",
      "[220]\tvalidation-rmse:6.34333\n",
      "[221]\tvalidation-rmse:6.34351\n",
      "[222]\tvalidation-rmse:6.34321\n",
      "[223]\tvalidation-rmse:6.34314\n",
      "[224]\tvalidation-rmse:6.34303\n",
      "[225]\tvalidation-rmse:6.34300\n",
      "[226]\tvalidation-rmse:6.34194\n",
      "[227]\tvalidation-rmse:6.34088\n",
      "[228]\tvalidation-rmse:6.34083\n",
      "[229]\tvalidation-rmse:6.34059\n",
      "[230]\tvalidation-rmse:6.34013\n",
      "[231]\tvalidation-rmse:6.33995\n",
      "[232]\tvalidation-rmse:6.33917\n",
      "[233]\tvalidation-rmse:6.33947\n",
      "[234]\tvalidation-rmse:6.33886\n",
      "[235]\tvalidation-rmse:6.33895\n",
      "[236]\tvalidation-rmse:6.33854\n",
      "[237]\tvalidation-rmse:6.33842\n",
      "[238]\tvalidation-rmse:6.33820\n",
      "[239]\tvalidation-rmse:6.33817\n",
      "[240]\tvalidation-rmse:6.33818\n",
      "[241]\tvalidation-rmse:6.33823\n",
      "[242]\tvalidation-rmse:6.33791\n",
      "[243]\tvalidation-rmse:6.33778\n",
      "[244]\tvalidation-rmse:6.33778\n",
      "[245]\tvalidation-rmse:6.33785\n",
      "[246]\tvalidation-rmse:6.33730\n",
      "[247]\tvalidation-rmse:6.33753\n",
      "[248]\tvalidation-rmse:6.33748\n",
      "[249]\tvalidation-rmse:6.33762\n",
      "[250]\tvalidation-rmse:6.33752\n",
      "[251]\tvalidation-rmse:6.33726\n",
      "[252]\tvalidation-rmse:6.33687\n",
      "[253]\tvalidation-rmse:6.33726\n",
      "[254]\tvalidation-rmse:6.33665\n",
      "[255]\tvalidation-rmse:6.33644\n",
      "[256]\tvalidation-rmse:6.33641\n",
      "[257]\tvalidation-rmse:6.33686\n",
      "[258]\tvalidation-rmse:6.33712\n",
      "[259]\tvalidation-rmse:6.33686\n",
      "[260]\tvalidation-rmse:6.33669\n",
      "[261]\tvalidation-rmse:6.33647\n",
      "[262]\tvalidation-rmse:6.33618\n",
      "[263]\tvalidation-rmse:6.33585\n",
      "[264]\tvalidation-rmse:6.33532\n",
      "[265]\tvalidation-rmse:6.33479\n",
      "[266]\tvalidation-rmse:6.33493\n",
      "[267]\tvalidation-rmse:6.33501\n",
      "[268]\tvalidation-rmse:6.33503\n",
      "[269]\tvalidation-rmse:6.33477\n",
      "[270]\tvalidation-rmse:6.33454\n",
      "[271]\tvalidation-rmse:6.33442\n",
      "[272]\tvalidation-rmse:6.33432\n",
      "[273]\tvalidation-rmse:6.33418\n",
      "[274]\tvalidation-rmse:6.33413\n",
      "[275]\tvalidation-rmse:6.33409\n",
      "[276]\tvalidation-rmse:6.33411\n",
      "[277]\tvalidation-rmse:6.33384\n",
      "[278]\tvalidation-rmse:6.33362\n",
      "[279]\tvalidation-rmse:6.33356\n",
      "[280]\tvalidation-rmse:6.33349\n",
      "[281]\tvalidation-rmse:6.33321\n",
      "[282]\tvalidation-rmse:6.33297\n",
      "[283]\tvalidation-rmse:6.33297\n",
      "[284]\tvalidation-rmse:6.33289\n",
      "[285]\tvalidation-rmse:6.33272\n",
      "[286]\tvalidation-rmse:6.33252\n",
      "[287]\tvalidation-rmse:6.33238\n",
      "[288]\tvalidation-rmse:6.33233\n",
      "[289]\tvalidation-rmse:6.33242\n",
      "[290]\tvalidation-rmse:6.33244\n",
      "[291]\tvalidation-rmse:6.33251\n",
      "[292]\tvalidation-rmse:6.33276\n",
      "[293]\tvalidation-rmse:6.33286\n",
      "[294]\tvalidation-rmse:6.33240\n",
      "[295]\tvalidation-rmse:6.33291\n",
      "[296]\tvalidation-rmse:6.33288\n",
      "[297]\tvalidation-rmse:6.33213\n",
      "[298]\tvalidation-rmse:6.33202\n",
      "[299]\tvalidation-rmse:6.33206\n",
      "[300]\tvalidation-rmse:6.33158\n",
      "[301]\tvalidation-rmse:6.33109\n",
      "[302]\tvalidation-rmse:6.33121\n",
      "[303]\tvalidation-rmse:6.33134\n",
      "[304]\tvalidation-rmse:6.33138\n",
      "[305]\tvalidation-rmse:6.33107\n",
      "[306]\tvalidation-rmse:6.33103\n",
      "[307]\tvalidation-rmse:6.33122\n",
      "[308]\tvalidation-rmse:6.33102\n",
      "[309]\tvalidation-rmse:6.33097\n",
      "[310]\tvalidation-rmse:6.33051\n",
      "[311]\tvalidation-rmse:6.33065\n",
      "[312]\tvalidation-rmse:6.33028\n",
      "[313]\tvalidation-rmse:6.33011\n",
      "[314]\tvalidation-rmse:6.33028\n",
      "[315]\tvalidation-rmse:6.33041\n",
      "[316]\tvalidation-rmse:6.33039\n",
      "[317]\tvalidation-rmse:6.33020\n",
      "[318]\tvalidation-rmse:6.32992\n",
      "[319]\tvalidation-rmse:6.32989\n",
      "[320]\tvalidation-rmse:6.32978\n",
      "[321]\tvalidation-rmse:6.32963\n",
      "[322]\tvalidation-rmse:6.32999\n",
      "[323]\tvalidation-rmse:6.32995\n",
      "[324]\tvalidation-rmse:6.32997\n",
      "[325]\tvalidation-rmse:6.32982\n",
      "[326]\tvalidation-rmse:6.33000\n",
      "[327]\tvalidation-rmse:6.32992\n",
      "[328]\tvalidation-rmse:6.32988\n",
      "[329]\tvalidation-rmse:6.32976\n",
      "[330]\tvalidation-rmse:6.32953\n",
      "[331]\tvalidation-rmse:6.32944\n",
      "[332]\tvalidation-rmse:6.32912\n",
      "[333]\tvalidation-rmse:6.32907\n",
      "[334]\tvalidation-rmse:6.32903\n",
      "[335]\tvalidation-rmse:6.32914\n",
      "[336]\tvalidation-rmse:6.32939\n",
      "[337]\tvalidation-rmse:6.32958\n",
      "[338]\tvalidation-rmse:6.32941\n",
      "[339]\tvalidation-rmse:6.32970\n",
      "[340]\tvalidation-rmse:6.32968\n",
      "[341]\tvalidation-rmse:6.32972\n",
      "[342]\tvalidation-rmse:6.32963\n",
      "[343]\tvalidation-rmse:6.32960\n",
      "[344]\tvalidation-rmse:6.32963\n",
      "[345]\tvalidation-rmse:6.32953\n",
      "[346]\tvalidation-rmse:6.32945\n",
      "[347]\tvalidation-rmse:6.32942\n",
      "[348]\tvalidation-rmse:6.32930\n",
      "[349]\tvalidation-rmse:6.32933\n",
      "[350]\tvalidation-rmse:6.32899\n",
      "[351]\tvalidation-rmse:6.32906\n",
      "[352]\tvalidation-rmse:6.32897\n",
      "[353]\tvalidation-rmse:6.32900\n",
      "[354]\tvalidation-rmse:6.32908\n",
      "[355]\tvalidation-rmse:6.32898\n",
      "[356]\tvalidation-rmse:6.32885\n",
      "[357]\tvalidation-rmse:6.32895\n",
      "[358]\tvalidation-rmse:6.32899\n",
      "[359]\tvalidation-rmse:6.32894\n",
      "[360]\tvalidation-rmse:6.32898\n",
      "[361]\tvalidation-rmse:6.32905\n",
      "[362]\tvalidation-rmse:6.32909\n",
      "[363]\tvalidation-rmse:6.32903\n",
      "[364]\tvalidation-rmse:6.32908\n",
      "[365]\tvalidation-rmse:6.32897\n",
      "[366]\tvalidation-rmse:6.32899\n",
      "[367]\tvalidation-rmse:6.32888\n",
      "[368]\tvalidation-rmse:6.32896\n",
      "[369]\tvalidation-rmse:6.32895\n",
      "[370]\tvalidation-rmse:6.32885\n",
      "[371]\tvalidation-rmse:6.32850\n",
      "[372]\tvalidation-rmse:6.32856\n",
      "[373]\tvalidation-rmse:6.32862\n",
      "[374]\tvalidation-rmse:6.32891\n",
      "[375]\tvalidation-rmse:6.32892\n",
      "[376]\tvalidation-rmse:6.32917\n",
      "[377]\tvalidation-rmse:6.32908\n",
      "[378]\tvalidation-rmse:6.32901\n",
      "[379]\tvalidation-rmse:6.32885\n",
      "[380]\tvalidation-rmse:6.32879\n",
      "[381]\tvalidation-rmse:6.32871\n",
      "[382]\tvalidation-rmse:6.32898\n",
      "[383]\tvalidation-rmse:6.32917\n",
      "[384]\tvalidation-rmse:6.32914\n",
      "[385]\tvalidation-rmse:6.32909\n",
      "[386]\tvalidation-rmse:6.32892\n",
      "[387]\tvalidation-rmse:6.32875\n",
      "[388]\tvalidation-rmse:6.32888\n",
      "[389]\tvalidation-rmse:6.32836\n",
      "[390]\tvalidation-rmse:6.32813\n",
      "[391]\tvalidation-rmse:6.32830\n",
      "[392]\tvalidation-rmse:6.32813\n",
      "[393]\tvalidation-rmse:6.32823\n",
      "[394]\tvalidation-rmse:6.32830\n",
      "[395]\tvalidation-rmse:6.32853\n",
      "[396]\tvalidation-rmse:6.32821\n",
      "[397]\tvalidation-rmse:6.32797\n",
      "[398]\tvalidation-rmse:6.32799\n",
      "[399]\tvalidation-rmse:6.32784\n",
      "[400]\tvalidation-rmse:6.32801\n",
      "[401]\tvalidation-rmse:6.32794\n",
      "[402]\tvalidation-rmse:6.32809\n",
      "[403]\tvalidation-rmse:6.32808\n",
      "[404]\tvalidation-rmse:6.32791\n",
      "[405]\tvalidation-rmse:6.32765\n",
      "[406]\tvalidation-rmse:6.32776\n",
      "[407]\tvalidation-rmse:6.32784\n",
      "[408]\tvalidation-rmse:6.32783\n",
      "[409]\tvalidation-rmse:6.32775\n",
      "[410]\tvalidation-rmse:6.32757\n",
      "[411]\tvalidation-rmse:6.32763\n",
      "[412]\tvalidation-rmse:6.32776\n",
      "[413]\tvalidation-rmse:6.32788\n",
      "[414]\tvalidation-rmse:6.32794\n",
      "[415]\tvalidation-rmse:6.32782\n",
      "[416]\tvalidation-rmse:6.32797\n",
      "[417]\tvalidation-rmse:6.32809\n",
      "[418]\tvalidation-rmse:6.32727\n",
      "[419]\tvalidation-rmse:6.32744\n",
      "[420]\tvalidation-rmse:6.32750\n",
      "[421]\tvalidation-rmse:6.32741\n",
      "[422]\tvalidation-rmse:6.32739\n",
      "[423]\tvalidation-rmse:6.32718\n",
      "[424]\tvalidation-rmse:6.32712\n",
      "[425]\tvalidation-rmse:6.32662\n",
      "[426]\tvalidation-rmse:6.32669\n",
      "[427]\tvalidation-rmse:6.32741\n",
      "[428]\tvalidation-rmse:6.32785\n",
      "[429]\tvalidation-rmse:6.32792\n",
      "[430]\tvalidation-rmse:6.32771\n",
      "[431]\tvalidation-rmse:6.32753\n",
      "[432]\tvalidation-rmse:6.32716\n",
      "[433]\tvalidation-rmse:6.32704\n",
      "[434]\tvalidation-rmse:6.32657\n",
      "[435]\tvalidation-rmse:6.32644\n",
      "[436]\tvalidation-rmse:6.32603\n",
      "[437]\tvalidation-rmse:6.32614\n",
      "[438]\tvalidation-rmse:6.32634\n",
      "[439]\tvalidation-rmse:6.32632\n",
      "[440]\tvalidation-rmse:6.32628\n",
      "[441]\tvalidation-rmse:6.32641\n",
      "[442]\tvalidation-rmse:6.32639\n",
      "[443]\tvalidation-rmse:6.32653\n",
      "[444]\tvalidation-rmse:6.32648\n",
      "[445]\tvalidation-rmse:6.32655\n",
      "[446]\tvalidation-rmse:6.32647\n",
      "[447]\tvalidation-rmse:6.32643\n",
      "[448]\tvalidation-rmse:6.32645\n",
      "[449]\tvalidation-rmse:6.32657\n",
      "[450]\tvalidation-rmse:6.32666\n",
      "[451]\tvalidation-rmse:6.32670\n",
      "[452]\tvalidation-rmse:6.32674\n",
      "[453]\tvalidation-rmse:6.32690\n",
      "[454]\tvalidation-rmse:6.32730\n",
      "[455]\tvalidation-rmse:6.32742\n",
      "[456]\tvalidation-rmse:6.32752\n",
      "[457]\tvalidation-rmse:6.32760\n",
      "[458]\tvalidation-rmse:6.32782\n",
      "[459]\tvalidation-rmse:6.32783\n",
      "[460]\tvalidation-rmse:6.32790\n",
      "[461]\tvalidation-rmse:6.32749\n",
      "[462]\tvalidation-rmse:6.32772\n",
      "[463]\tvalidation-rmse:6.32776\n",
      "[464]\tvalidation-rmse:6.32776\n",
      "[465]\tvalidation-rmse:6.32799\n",
      "[466]\tvalidation-rmse:6.32802\n",
      "[467]\tvalidation-rmse:6.32785\n",
      "[468]\tvalidation-rmse:6.32781\n",
      "[469]\tvalidation-rmse:6.32780\n",
      "[470]\tvalidation-rmse:6.32754\n",
      "[471]\tvalidation-rmse:6.32738\n",
      "[472]\tvalidation-rmse:6.32747\n",
      "[473]\tvalidation-rmse:6.32775\n",
      "[474]\tvalidation-rmse:6.32781\n",
      "[475]\tvalidation-rmse:6.32775\n",
      "[476]\tvalidation-rmse:6.32767\n",
      "[477]\tvalidation-rmse:6.32793\n",
      "[478]\tvalidation-rmse:6.32768\n",
      "[479]\tvalidation-rmse:6.32765\n",
      "[480]\tvalidation-rmse:6.32754\n",
      "[481]\tvalidation-rmse:6.32715\n",
      "[482]\tvalidation-rmse:6.32699\n",
      "[483]\tvalidation-rmse:6.32689\n",
      "[484]\tvalidation-rmse:6.32690\n",
      "[485]\tvalidation-rmse:6.32689\n",
      "[486]\tvalidation-rmse:6.32657\n"
     ]
    },
    {
     "name": "stderr",
     "output_type": "stream",
     "text": [
      "/home/codespace/anaconda3/lib/python3.9/site-packages/xgboost/core.py:158: UserWarning: [18:15:42] WARNING: /workspace/src/c_api/c_api.cc:1374: Saving model in the UBJSON format as default.  You can use file extension: `json`, `ubj` or `deprecated` to choose between formats.\n",
      "  warnings.warn(smsg, UserWarning)\n",
      "2025/05/26 18:15:45 WARNING mlflow.utils.environment: Encountered an unexpected error while inferring pip requirements (model URI: /tmp/tmpxoag1lza/model, flavor: xgboost). Fall back to return ['xgboost==2.1.4']. Set logging level to DEBUG to see the full traceback. \n",
      "\u001b[31m2025/05/26 18:15:45 WARNING mlflow.models.model: Model logged without a signature and input example. Please set `input_example` parameter when logging the model to auto infer the model signature.\u001b[0m\n"
     ]
    }
   ],
   "source": [
    "with mlflow.start_run():\n",
    "\tb_params = {\n",
    "\t\"learning_rate\": 0.22093207255173006,\n",
    "\t\"max_depth\": 43,\n",
    "\t\"min_child_weight\" :2.98274675380116,\n",
    "\t\"objective\":  \"reg:linear\",\n",
    "\t\"reg_alpha\": 0.12234284295963546,\n",
    "\t\"reg_lambda\":0.17958531299020217,\n",
    "\t\"seed\": 42\n",
    "\t}\n",
    "\t\n",
    "\tmlflow.log_params(b_params)\n",
    "\n",
    "\tbooster = xgb.train(\n",
    "    params=b_params,\n",
    "    dtrain=train,\n",
    "    num_boost_round=1000,\n",
    "    evals=[(valid, 'validation')],\n",
    "    early_stopping_rounds=50\n",
    "\t)\n",
    "\n",
    "\ty_pred = booster.predict(valid)\n",
    "\trmse = mean_squared_error(y_val, y_pred, squared=False)\n",
    "\tmlflow.log_metric(\"rmse\", rmse)\n",
    "\n",
    "\twith open(\"models/preprocessor.b\", \"wb\") as f_out:\n",
    "\t\t   pickle.dump(dv, f_out)\n",
    "\t\n",
    "\tmlflow.log_artifact(\"models/preprocessor.b\", artifact_path=\"preprocessor\")\n",
    "\tmlflow.xgboost.log_model(booster, artifact_path=\"models_mlflow\")"
   ]
  },
  {
   "cell_type": "code",
   "execution_count": 42,
   "id": "279dbdf8",
   "metadata": {},
   "outputs": [],
   "source": [
    "logged_model = 'runs:/461acd96d8af429b886168cb63db3b72/models_mlflow'\n",
    "\n",
    "# Load model as a PyFuncModel.\n",
    "loaded_model = mlflow.pyfunc.load_model(logged_model)\n",
    "\n"
   ]
  },
  {
   "cell_type": "code",
   "execution_count": 44,
   "id": "78f8fd51",
   "metadata": {},
   "outputs": [],
   "source": [
    "xgboost_model = mlflow.xgboost.load_model('runs:/461acd96d8af429b886168cb63db3b72/models_mlflow')"
   ]
  },
  {
   "cell_type": "code",
   "execution_count": 45,
   "id": "fc08a342",
   "metadata": {},
   "outputs": [
    {
     "data": {
      "text/plain": [
       "<xgboost.core.Booster at 0x7a6817e4b3a0>"
      ]
     },
     "execution_count": 45,
     "metadata": {},
     "output_type": "execute_result"
    }
   ],
   "source": [
    "xgboost_model"
   ]
  },
  {
   "cell_type": "code",
   "execution_count": 46,
   "id": "19f2f57e",
   "metadata": {},
   "outputs": [],
   "source": [
    "y_pred = xgboost_model.predict(valid)"
   ]
  },
  {
   "cell_type": "code",
   "execution_count": 47,
   "id": "fbf45866",
   "metadata": {},
   "outputs": [
    {
     "data": {
      "text/plain": [
       "array([14.299607,  6.963071, 13.600258, ..., 13.568771,  5.82065 ,\n",
       "        8.036267], dtype=float32)"
      ]
     },
     "execution_count": 47,
     "metadata": {},
     "output_type": "execute_result"
    }
   ],
   "source": [
    "y_pred"
   ]
  }
 ],
 "metadata": {
  "kernelspec": {
   "display_name": "base",
   "language": "python",
   "name": "python3"
  },
  "language_info": {
   "codemirror_mode": {
    "name": "ipython",
    "version": 3
   },
   "file_extension": ".py",
   "mimetype": "text/x-python",
   "name": "python",
   "nbconvert_exporter": "python",
   "pygments_lexer": "ipython3",
   "version": "3.9.12"
  }
 },
 "nbformat": 4,
 "nbformat_minor": 5
}
