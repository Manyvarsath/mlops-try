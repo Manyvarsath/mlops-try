{
 "cells": [
  {
   "cell_type": "code",
   "execution_count": null,
   "id": "9102a4e8",
   "metadata": {},
   "outputs": [],
   "source": [
    "import preprocess_data"
   ]
  },
  {
   "cell_type": "code",
   "execution_count": null,
   "id": "5deb3d08",
   "metadata": {},
   "outputs": [],
   "source": [
    "import mlflow"
   ]
  },
  {
   "cell_type": "code",
   "execution_count": null,
   "id": "41e1a01c",
   "metadata": {},
   "outputs": [],
   "source": [
    "mlflow.__version__"
   ]
  },
  {
   "cell_type": "code",
   "execution_count": null,
   "id": "e195fb73",
   "metadata": {},
   "outputs": [],
   "source": [
    "!mkdir -p /workspaces/mlops-try/02-experiment-tracking/homework/data \\\n",
    "\t&& wget -P /workspaces/mlops-try/02-experiment-tracking/homework/data \\\n",
    "\t\thttps://d37ci6vzurychx.cloudfront.net/trip-data/green_tripdata_2023-01.parquet \\\n",
    "\t\thttps://d37ci6vzurychx.cloudfront.net/trip-data/green_tripdata_2023-02.parquet \\\n",
    "\t\t\thttps://d37ci6vzurychx.cloudfront.net/trip-data/green_tripdata_2023-03.parquet"
   ]
  },
  {
   "cell_type": "code",
   "execution_count": null,
   "id": "33694b44",
   "metadata": {},
   "outputs": [],
   "source": [
    "!python preprocess_data.py --raw_data_path /workspaces/mlops-try/02-experiment-tracking/homework/data --dest_path ./output"
   ]
  },
  {
   "cell_type": "code",
   "execution_count": null,
   "id": "8bb49f1c",
   "metadata": {},
   "outputs": [],
   "source": [
    "!ls /workspaces/mlops-try/02-experiment-tracking/homework/output -1 | wc -l"
   ]
  },
  {
   "cell_type": "code",
   "execution_count": null,
   "id": "78714f61",
   "metadata": {},
   "outputs": [],
   "source": [
    "import train"
   ]
  },
  {
   "cell_type": "code",
   "execution_count": null,
   "id": "174ea6fd",
   "metadata": {},
   "outputs": [],
   "source": [
    "!python train.py --data_path /workspaces/mlops-try/02-experiment-tracking/homework/output"
   ]
  },
  {
   "cell_type": "code",
   "execution_count": null,
   "id": "3acc4c7e",
   "metadata": {},
   "outputs": [],
   "source": [
    "# mlflow ui"
   ]
  },
  {
   "cell_type": "code",
   "execution_count": null,
   "id": "932ff2df",
   "metadata": {},
   "outputs": [],
   "source": [
    "## Interrupt the previous tracking server then run the command below on the terminal\n",
    "## mlflow ui --backend-store-uri sqlite:///mlflow-homeword.db --default-artifact-root ./artifacts\n",
    "##\n",
    "## Run this command on the terminal"
   ]
  },
  {
   "cell_type": "code",
   "execution_count": null,
   "id": "96506023",
   "metadata": {},
   "outputs": [],
   "source": [
    "# In case you accidentally created one of the experiments earlier and deleted it\n",
    "\"\"\"\n",
    "from mlflow.tracking import MlflowClient\n",
    "\n",
    "client = MlflowClient()\n",
    "\n",
    "experiments = client.search_experiments(view_type=mlflow.entities.ViewType.ALL)\n",
    "exp_to_delete = next((exp for exp in experiments if exp.name == \"random-forest-hyperopt\"), None)\n",
    "\n",
    "if exp_to_delete:\n",
    "    client.delete_experiment(exp_to_delete.experiment_id)\n",
    "    print(f\"Permanently deleted experiment: {exp_to_delete.name}\")\n",
    "else:\n",
    "    print(\"Experiment not found.\")\n",
    "\n",
    "\"\"\""
   ]
  },
  {
   "cell_type": "code",
   "execution_count": null,
   "id": "5b613d93",
   "metadata": {},
   "outputs": [],
   "source": [
    "import hpo"
   ]
  },
  {
   "cell_type": "code",
   "execution_count": null,
   "id": "fe8d2220",
   "metadata": {},
   "outputs": [],
   "source": [
    "!python hpo.py --data_path /workspaces/mlops-try/02-experiment-tracking/homework/output "
   ]
  },
  {
   "cell_type": "code",
   "execution_count": null,
   "id": "806c4af8",
   "metadata": {},
   "outputs": [],
   "source": [
    "import register_model"
   ]
  },
  {
   "cell_type": "code",
   "execution_count": null,
   "id": "e3334c7c",
   "metadata": {},
   "outputs": [],
   "source": [
    "!python register_model.py --data_path /workspaces/mlops-try/02-experiment-tracking/homework/output"
   ]
  }
 ],
 "metadata": {
  "kernelspec": {
   "display_name": "base",
   "language": "python",
   "name": "python3"
  },
  "language_info": {
   "codemirror_mode": {
    "name": "ipython",
    "version": 3
   },
   "file_extension": ".py",
   "mimetype": "text/x-python",
   "name": "python",
   "nbconvert_exporter": "python",
   "pygments_lexer": "ipython3",
   "version": "3.9.12"
  }
 },
 "nbformat": 4,
 "nbformat_minor": 5
}
