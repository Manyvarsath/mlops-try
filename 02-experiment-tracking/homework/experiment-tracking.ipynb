{
 "cells": [
  {
   "cell_type": "code",
   "execution_count": 2,
   "id": "9102a4e8",
   "metadata": {},
   "outputs": [],
   "source": [
    "import preprocess_data"
   ]
  },
  {
   "cell_type": "code",
   "execution_count": 3,
   "id": "5deb3d08",
   "metadata": {},
   "outputs": [],
   "source": [
    "import mlflow"
   ]
  },
  {
   "cell_type": "code",
   "execution_count": 4,
   "id": "41e1a01c",
   "metadata": {},
   "outputs": [
    {
     "data": {
      "text/plain": [
       "'2.22.0'"
      ]
     },
     "execution_count": 4,
     "metadata": {},
     "output_type": "execute_result"
    }
   ],
   "source": [
    "mlflow.__version__"
   ]
  },
  {
   "cell_type": "code",
   "execution_count": 5,
   "id": "33694b44",
   "metadata": {},
   "outputs": [],
   "source": [
    "!python preprocess_data.py --raw_data_path /workspaces/mlops-try/02-experiment-tracking/homework/data --dest_path ./output"
   ]
  },
  {
   "cell_type": "code",
   "execution_count": 6,
   "id": "8bb49f1c",
   "metadata": {},
   "outputs": [
    {
     "name": "stdout",
     "output_type": "stream",
     "text": [
      "4\n"
     ]
    }
   ],
   "source": [
    "!ls /workspaces/mlops-try/02-experiment-tracking/homework/output -1 | wc -l"
   ]
  },
  {
   "cell_type": "code",
   "execution_count": 7,
   "id": "78714f61",
   "metadata": {},
   "outputs": [],
   "source": [
    "import train"
   ]
  },
  {
   "cell_type": "code",
   "execution_count": 8,
   "id": "174ea6fd",
   "metadata": {},
   "outputs": [
    {
     "name": "stdout",
     "output_type": "stream",
     "text": [
      "2025/05/27 17:59:57 WARNING mlflow.sklearn: Failed to log training dataset information to MLflow Tracking. Reason: Unable to allocate 489. GiB for an array with shape (3009173, 21802) and data type float64\n",
      "2025/05/27 18:13:18 WARNING mlflow.utils.environment: Encountered an unexpected error while inferring pip requirements (model URI: /tmp/tmptm3qn_cu/model/model.pkl, flavor: sklearn). Fall back to return ['scikit-learn==1.4.0', 'cloudpickle==2.0.0']. Set logging level to DEBUG to see the full traceback. \n",
      "2025/05/27 18:13:33 WARNING mlflow.sklearn: Failed to log evaluation dataset information to MLflow Tracking. Reason: Unable to allocate 464. GiB for an array with shape (2855951, 21802) and data type float64\n"
     ]
    }
   ],
   "source": [
    "!python train.py --data_path /workspaces/mlops-try/02-experiment-tracking/homework/output"
   ]
  },
  {
   "cell_type": "code",
   "execution_count": 9,
   "id": "932ff2df",
   "metadata": {},
   "outputs": [
    {
     "name": "stdout",
     "output_type": "stream",
     "text": [
      "2025/05/27 18:16:07 INFO mlflow.store.db.utils: Creating initial MLflow database tables...\n",
      "2025/05/27 18:16:07 INFO mlflow.store.db.utils: Updating database tables\n",
      "INFO  [alembic.runtime.migration] Context impl SQLiteImpl.\n",
      "INFO  [alembic.runtime.migration] Will assume non-transactional DDL.\n",
      "INFO  [alembic.runtime.migration] Running upgrade  -> 451aebb31d03, add metric step\n",
      "INFO  [alembic.runtime.migration] Running upgrade 451aebb31d03 -> 90e64c465722, migrate user column to tags\n",
      "INFO  [alembic.runtime.migration] Running upgrade 90e64c465722 -> 181f10493468, allow nulls for metric values\n",
      "INFO  [alembic.runtime.migration] Running upgrade 181f10493468 -> df50e92ffc5e, Add Experiment Tags Table\n",
      "INFO  [alembic.runtime.migration] Running upgrade df50e92ffc5e -> 7ac759974ad8, Update run tags with larger limit\n",
      "INFO  [alembic.runtime.migration] Running upgrade 7ac759974ad8 -> 89d4b8295536, create latest metrics table\n",
      "INFO  [89d4b8295536_create_latest_metrics_table_py] Migration complete!\n",
      "INFO  [alembic.runtime.migration] Running upgrade 89d4b8295536 -> 2b4d017a5e9b, add model registry tables to db\n",
      "INFO  [2b4d017a5e9b_add_model_registry_tables_to_db_py] Adding registered_models and model_versions tables to database.\n",
      "INFO  [2b4d017a5e9b_add_model_registry_tables_to_db_py] Migration complete!\n",
      "INFO  [alembic.runtime.migration] Running upgrade 2b4d017a5e9b -> cfd24bdc0731, Update run status constraint with killed\n",
      "INFO  [alembic.runtime.migration] Running upgrade cfd24bdc0731 -> 0a8213491aaa, drop_duplicate_killed_constraint\n",
      "INFO  [alembic.runtime.migration] Running upgrade 0a8213491aaa -> 728d730b5ebd, add registered model tags table\n",
      "INFO  [alembic.runtime.migration] Running upgrade 728d730b5ebd -> 27a6a02d2cf1, add model version tags table\n",
      "INFO  [alembic.runtime.migration] Running upgrade 27a6a02d2cf1 -> 84291f40a231, add run_link to model_version\n",
      "INFO  [alembic.runtime.migration] Running upgrade 84291f40a231 -> a8c4a736bde6, allow nulls for run_id\n",
      "INFO  [alembic.runtime.migration] Running upgrade a8c4a736bde6 -> 39d1c3be5f05, add_is_nan_constraint_for_metrics_tables_if_necessary\n",
      "INFO  [alembic.runtime.migration] Running upgrade 39d1c3be5f05 -> c48cb773bb87, reset_default_value_for_is_nan_in_metrics_table_for_mysql\n",
      "INFO  [alembic.runtime.migration] Running upgrade c48cb773bb87 -> bd07f7e963c5, create index on run_uuid\n",
      "INFO  [alembic.runtime.migration] Running upgrade bd07f7e963c5 -> 0c779009ac13, add deleted_time field to runs table\n",
      "INFO  [alembic.runtime.migration] Running upgrade 0c779009ac13 -> cc1f77228345, change param value length to 500\n",
      "INFO  [alembic.runtime.migration] Running upgrade cc1f77228345 -> 97727af70f4d, Add creation_time and last_update_time to experiments table\n",
      "INFO  [alembic.runtime.migration] Running upgrade 97727af70f4d -> 3500859a5d39, Add Model Aliases table\n",
      "INFO  [alembic.runtime.migration] Running upgrade 3500859a5d39 -> 7f2a7d5fae7d, add datasets inputs input_tags tables\n",
      "INFO  [alembic.runtime.migration] Running upgrade 7f2a7d5fae7d -> 2d6e25af4d3e, increase max param val length from 500 to 8000\n",
      "INFO  [alembic.runtime.migration] Running upgrade 2d6e25af4d3e -> acf3f17fdcc7, add storage location field to model versions\n",
      "INFO  [alembic.runtime.migration] Running upgrade acf3f17fdcc7 -> 867495a8f9d4, add trace tables\n",
      "INFO  [alembic.runtime.migration] Running upgrade 867495a8f9d4 -> 5b0e9adcef9c, add cascade deletion to trace tables foreign keys\n",
      "INFO  [alembic.runtime.migration] Running upgrade 5b0e9adcef9c -> 4465047574b1, increase max dataset schema size\n",
      "INFO  [alembic.runtime.migration] Running upgrade 4465047574b1 -> f5a4f2784254, increase run tag value limit to 8000\n",
      "INFO  [alembic.runtime.migration] Running upgrade f5a4f2784254 -> 0584bdc529eb, add cascading deletion to datasets from experiments\n",
      "INFO  [alembic.runtime.migration] Context impl SQLiteImpl.\n",
      "INFO  [alembic.runtime.migration] Will assume non-transactional DDL.\n",
      "[2025-05-27 18:16:07 +0000] [17934] [INFO] Starting gunicorn 23.0.0\n",
      "[2025-05-27 18:16:07 +0000] [17934] [INFO] Listening at: http://127.0.0.1:5000 (17934)\n",
      "[2025-05-27 18:16:07 +0000] [17934] [INFO] Using worker: sync\n",
      "[2025-05-27 18:16:07 +0000] [17935] [INFO] Booting worker with pid: 17935\n",
      "[2025-05-27 18:16:07 +0000] [17936] [INFO] Booting worker with pid: 17936\n",
      "[2025-05-27 18:16:07 +0000] [17937] [INFO] Booting worker with pid: 17937\n",
      "[2025-05-27 18:16:07 +0000] [17938] [INFO] Booting worker with pid: 17938\n",
      "[2025-05-27 18:17:52 +0000] [17934] [INFO] Handling signal: int\n",
      "^C\n",
      "\n",
      "Aborted!\n",
      "[2025-05-27 18:17:52 +0000] [17935] [INFO] Worker exiting (pid: 17935)\n",
      "[2025-05-27 18:17:52 +0000] [17936] [INFO] Worker exiting (pid: 17936)\n",
      "[2025-05-27 18:17:52 +0000] [17938] [INFO] Worker exiting (pid: 17938)\n",
      "[2025-05-27 18:17:52 +0000] [17937] [INFO] Worker exiting (pid: 17937)\n"
     ]
    }
   ],
   "source": [
    "## !mlflow ui --backend-store-uri sqlite:///mlflow-homeword.db --default-artifact-root ./artifacts\n",
    "##\n",
    "## Run this command on the terminal"
   ]
  },
  {
   "cell_type": "code",
   "execution_count": null,
   "id": "96506023",
   "metadata": {},
   "outputs": [
    {
     "name": "stdout",
     "output_type": "stream",
     "text": [
      "Experiment not found.\n"
     ]
    }
   ],
   "source": [
    "# In case you accidentally created the experiment earlier and deleted it\n",
    "\n",
    "from mlflow.tracking import MlflowClient\n",
    "\n",
    "client = MlflowClient()\n",
    "\n",
    "experiments = client.search_experiments(view_type=mlflow.entities.ViewType.ALL)\n",
    "exp_to_delete = next((exp for exp in experiments if exp.name == \"random-forest-hyperopt\"), None)\n",
    "\n",
    "if exp_to_delete:\n",
    "    client.delete_experiment(exp_to_delete.experiment_id)\n",
    "    print(f\"Permanently deleted experiment: {exp_to_delete.name}\")\n",
    "else:\n",
    "    print(\"Experiment not found.\")"
   ]
  },
  {
   "cell_type": "code",
   "execution_count": 14,
   "id": "5b613d93",
   "metadata": {},
   "outputs": [],
   "source": [
    "import hpo"
   ]
  },
  {
   "cell_type": "code",
   "execution_count": 15,
   "id": "fe8d2220",
   "metadata": {},
   "outputs": [
    {
     "name": "stdout",
     "output_type": "stream",
     "text": [
      "100%|███████| 15/15 [1:13:50<00:00, 295.39s/trial, best loss: 5.037464215926993]\n"
     ]
    }
   ],
   "source": [
    "!python hpo.py --data_path /workspaces/mlops-try/02-experiment-tracking/homework/output "
   ]
  },
  {
   "cell_type": "code",
   "execution_count": 20,
   "id": "806c4af8",
   "metadata": {},
   "outputs": [],
   "source": [
    "import register_model"
   ]
  },
  {
   "cell_type": "code",
   "execution_count": 21,
   "id": "e3334c7c",
   "metadata": {},
   "outputs": [
    {
     "name": "stdout",
     "output_type": "stream",
     "text": [
      "2025/05/27 21:21:33 WARNING mlflow.sklearn: Failed to log training dataset information to MLflow Tracking. Reason: Unable to allocate 489. GiB for an array with shape (3009173, 21802) and data type float64\n",
      "2025/05/27 21:28:49 WARNING mlflow.utils.environment: Encountered an unexpected error while inferring pip requirements (model URI: /tmp/tmp7n8bn4xj/model/model.pkl, flavor: sklearn). Fall back to return ['scikit-learn==1.4.0', 'cloudpickle==2.0.0']. Set logging level to DEBUG to see the full traceback. \n",
      "2025/05/27 21:28:54 WARNING mlflow.sklearn: Failed to log evaluation dataset information to MLflow Tracking. Reason: Unable to allocate 464. GiB for an array with shape (2855951, 21802) and data type float64\n",
      "2025/05/27 21:28:59 WARNING mlflow.sklearn: Failed to log evaluation dataset information to MLflow Tracking. Reason: Unable to allocate 539. GiB for an array with shape (3316216, 21802) and data type float64\n",
      "2025/05/27 21:28:59 WARNING mlflow.sklearn: Failed to log training dataset information to MLflow Tracking. Reason: Unable to allocate 489. GiB for an array with shape (3009173, 21802) and data type float64\n",
      "2025/05/27 21:33:37 WARNING mlflow.utils.environment: Encountered an unexpected error while inferring pip requirements (model URI: /tmp/tmphskntfhs/model/model.pkl, flavor: sklearn). Fall back to return ['scikit-learn==1.4.0', 'cloudpickle==2.0.0']. Set logging level to DEBUG to see the full traceback. \n",
      "2025/05/27 21:33:39 WARNING mlflow.sklearn: Failed to log evaluation dataset information to MLflow Tracking. Reason: Unable to allocate 464. GiB for an array with shape (2855951, 21802) and data type float64\n",
      "2025/05/27 21:33:42 WARNING mlflow.sklearn: Failed to log evaluation dataset information to MLflow Tracking. Reason: Unable to allocate 539. GiB for an array with shape (3316216, 21802) and data type float64\n",
      "2025/05/27 21:33:42 WARNING mlflow.sklearn: Failed to log training dataset information to MLflow Tracking. Reason: Unable to allocate 489. GiB for an array with shape (3009173, 21802) and data type float64\n",
      "2025/05/27 21:45:53 WARNING mlflow.utils.environment: Encountered an unexpected error while inferring pip requirements (model URI: /tmp/tmpawhtto5b/model/model.pkl, flavor: sklearn). Fall back to return ['scikit-learn==1.4.0', 'cloudpickle==2.0.0']. Set logging level to DEBUG to see the full traceback. \n",
      "2025/05/27 21:46:01 WARNING mlflow.sklearn: Failed to log evaluation dataset information to MLflow Tracking. Reason: Unable to allocate 464. GiB for an array with shape (2855951, 21802) and data type float64\n",
      "2025/05/27 21:46:10 WARNING mlflow.sklearn: Failed to log evaluation dataset information to MLflow Tracking. Reason: Unable to allocate 539. GiB for an array with shape (3316216, 21802) and data type float64\n",
      "2025/05/27 21:46:10 WARNING mlflow.sklearn: Failed to log training dataset information to MLflow Tracking. Reason: Unable to allocate 489. GiB for an array with shape (3009173, 21802) and data type float64\n",
      "2025/05/27 21:50:43 WARNING mlflow.utils.environment: Encountered an unexpected error while inferring pip requirements (model URI: /tmp/tmp5xu6j_yb/model/model.pkl, flavor: sklearn). Fall back to return ['scikit-learn==1.4.0', 'cloudpickle==2.0.0']. Set logging level to DEBUG to see the full traceback. \n",
      "2025/05/27 21:50:46 WARNING mlflow.sklearn: Failed to log evaluation dataset information to MLflow Tracking. Reason: Unable to allocate 464. GiB for an array with shape (2855951, 21802) and data type float64\n",
      "2025/05/27 21:50:49 WARNING mlflow.sklearn: Failed to log evaluation dataset information to MLflow Tracking. Reason: Unable to allocate 539. GiB for an array with shape (3316216, 21802) and data type float64\n",
      "2025/05/27 21:50:50 WARNING mlflow.sklearn: Failed to log training dataset information to MLflow Tracking. Reason: Unable to allocate 489. GiB for an array with shape (3009173, 21802) and data type float64\n",
      "2025/05/27 22:02:01 WARNING mlflow.utils.environment: Encountered an unexpected error while inferring pip requirements (model URI: /tmp/tmpvluvcdq7/model/model.pkl, flavor: sklearn). Fall back to return ['scikit-learn==1.4.0', 'cloudpickle==2.0.0']. Set logging level to DEBUG to see the full traceback. \n",
      "2025/05/27 22:02:08 WARNING mlflow.sklearn: Failed to log evaluation dataset information to MLflow Tracking. Reason: Unable to allocate 464. GiB for an array with shape (2855951, 21802) and data type float64\n",
      "2025/05/27 22:02:17 WARNING mlflow.sklearn: Failed to log evaluation dataset information to MLflow Tracking. Reason: Unable to allocate 539. GiB for an array with shape (3316216, 21802) and data type float64\n",
      "Successfully registered model 'best-yellow-taxi-regressor'.\n",
      "Created version '1' of model 'best-yellow-taxi-regressor'.\n"
     ]
    }
   ],
   "source": [
    "!python register_model.py --data_path /workspaces/mlops-try/02-experiment-tracking/homework/output"
   ]
  },
  {
   "cell_type": "code",
   "execution_count": null,
   "id": "69dcf65b",
   "metadata": {},
   "outputs": [],
   "source": []
  }
 ],
 "metadata": {
  "kernelspec": {
   "display_name": "base",
   "language": "python",
   "name": "python3"
  },
  "language_info": {
   "codemirror_mode": {
    "name": "ipython",
    "version": 3
   },
   "file_extension": ".py",
   "mimetype": "text/x-python",
   "name": "python",
   "nbconvert_exporter": "python",
   "pygments_lexer": "ipython3",
   "version": "3.9.12"
  }
 },
 "nbformat": 4,
 "nbformat_minor": 5
}
